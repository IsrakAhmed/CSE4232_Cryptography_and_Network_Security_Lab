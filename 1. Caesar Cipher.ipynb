{
 "cells": [
  {
   "cell_type": "code",
   "execution_count": 21,
   "id": "1c2a616c",
   "metadata": {},
   "outputs": [
    {
     "name": "stdout",
     "output_type": "stream",
     "text": [
      "Encrypted text: Br Erlll\n",
      "Decrypted text: Yo Boiii\n"
     ]
    }
   ],
   "source": [
    "def caesarCipherEncrypt(plainText, shift):\n",
    "    cipherText = ''\n",
    "    for char in plainText:\n",
    "        if char.isalpha():\n",
    "            # Determine if the character is uppercase or lowercase\n",
    "            if char.isupper():\n",
    "                asciiOffset = ord('A')\n",
    "            else:\n",
    "                asciiOffset = ord('a')\n",
    "            # Apply the Caesar cipher shift\n",
    "            shiftedChar = chr((ord(char) - asciiOffset + shift) % 26 + asciiOffset)\n",
    "            cipherText += shiftedChar\n",
    "        else:\n",
    "            # If the character is not alphabetic, leave it unchanged\n",
    "            cipherText += char\n",
    "    return cipherText\n",
    "\n",
    "\n",
    "\n",
    "\n",
    "def caesarCipherDecrypt(cipherText, shift):\n",
    "    plainText = ''\n",
    "    for char in cipherText:\n",
    "        if char.isalpha():\n",
    "            # Determine if the character is uppercase or lowercase\n",
    "            if char.isupper():\n",
    "                asciiOffset = ord('A')\n",
    "            else:\n",
    "                asciiOffset = ord('a')\n",
    "            # Apply the reverse Caesar cipher shift\n",
    "            shiftedChar = chr((ord(char) - asciiOffset - shift) % 26 + asciiOffset)\n",
    "            plainText += shiftedChar\n",
    "        else:\n",
    "            # If the character is not alphabetic, leave it unchanged\n",
    "            plainText += char\n",
    "    return plainText\n",
    "\n",
    "\n",
    "\n",
    "def caesar_decrypt(ciphertext, shift):\n",
    "    return caesarCipherEncrypt(ciphertext, -shift)\n",
    "\n",
    "\n",
    "\n",
    "# Example usage\n",
    "plainText = \"Yo Boiii\"\n",
    "shift = 3\n",
    "\n",
    "# Encrypt the plaintext\n",
    "cipherText = caesarCipherEncrypt(plainText, shift)\n",
    "print(\"Encrypted text:\", cipherText)\n",
    "\n",
    "# Decrypt the ciphertext\n",
    "decryptedText = caesarCipherDecrypt(cipherText, shift)\n",
    "print(\"Decrypted text:\", decryptedText)"
   ]
  }
 ],
 "metadata": {
  "kernelspec": {
   "display_name": "Python 3",
   "language": "python",
   "name": "python3"
  },
  "language_info": {
   "codemirror_mode": {
    "name": "ipython",
    "version": 3
   },
   "file_extension": ".py",
   "mimetype": "text/x-python",
   "name": "python",
   "nbconvert_exporter": "python",
   "pygments_lexer": "ipython3",
   "version": "3.11.5"
  }
 },
 "nbformat": 4,
 "nbformat_minor": 5
}
