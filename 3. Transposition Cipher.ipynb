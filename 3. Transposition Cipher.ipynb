{
 "cells": [
  {
   "cell_type": "code",
   "execution_count": 1,
   "id": "8b4f5138",
   "metadata": {},
   "outputs": [
    {
     "name": "stdout",
     "output_type": "stream",
     "text": [
      "Plain Text: hello ji\n",
      "Encrypted Text: h ejlilo\n",
      "Decrypted Text: hello ji\n"
     ]
    }
   ],
   "source": [
    "def encrypt(plain_text, width = 4):\n",
    "    length = len(plain_text)\n",
    "    cipher_text = \"\"\n",
    "\n",
    "    for k in range(width):\n",
    "        # print(\"K: \", k)\n",
    "        for i in range(k, length, width): # start, stop, step\n",
    "            cipher_text += plain_text[i]\n",
    "            # print(i, cipher_text)\n",
    "    \n",
    "    return cipher_text\n",
    "\n",
    "\n",
    "\n",
    "def decrypt(cipher_text, width = 4):\n",
    "    length = len(cipher_text)\n",
    "    plain_text = [''] * length\n",
    "    idx = 0\n",
    "\n",
    "    for k in range(width):\n",
    "        for i in range(k, length, width): \n",
    "            plain_text[i] = cipher_text[idx]\n",
    "            idx += 1\n",
    "\n",
    "    return ''.join(plain_text)\n",
    "\n",
    "\n",
    "\n",
    "plain_text = input(\"Enter the text to encrypt: \")\n",
    "width = int(input(\"Enter the value of width: \"))\n",
    "cipher_text = encrypt(plain_text, width)\n",
    "decrypted_text = decrypt(cipher_text, width)\n",
    "\n",
    "print(f\"Plain Text: {plain_text}\")\n",
    "print(f\"Encrypted Text: {cipher_text}\")\n",
    "print(f\"Decrypted Text: {decrypted_text}\")"
   ]
  }
 ],
 "metadata": {
  "kernelspec": {
   "display_name": "Python 3",
   "language": "python",
   "name": "python3"
  },
  "language_info": {
   "codemirror_mode": {
    "name": "ipython",
    "version": 3
   },
   "file_extension": ".py",
   "mimetype": "text/x-python",
   "name": "python",
   "nbconvert_exporter": "python",
   "pygments_lexer": "ipython3",
   "version": "3.11.5"
  }
 },
 "nbformat": 4,
 "nbformat_minor": 5
}
